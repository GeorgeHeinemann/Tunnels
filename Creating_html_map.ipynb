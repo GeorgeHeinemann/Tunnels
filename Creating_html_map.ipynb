{
 "cells": [
  {
   "cell_type": "markdown",
   "metadata": {},
   "source": [
    "# 1. Script set-up"
   ]
  },
  {
   "cell_type": "code",
   "execution_count": 261,
   "metadata": {},
   "outputs": [],
   "source": [
    "#Create Folium map\n",
    "import folium as fol\n",
    "import pandas as pd\n",
    "import seaborn as sns\n",
    "import matplotlib.pyplot as plt\n",
    "import math"
   ]
  },
  {
   "cell_type": "markdown",
   "metadata": {},
   "source": [
    "# 2. Import data"
   ]
  },
  {
   "cell_type": "code",
   "execution_count": 262,
   "metadata": {
    "scrolled": true
   },
   "outputs": [
    {
     "data": {
      "text/html": [
       "<div>\n",
       "<style scoped>\n",
       "    .dataframe tbody tr th:only-of-type {\n",
       "        vertical-align: middle;\n",
       "    }\n",
       "\n",
       "    .dataframe tbody tr th {\n",
       "        vertical-align: top;\n",
       "    }\n",
       "\n",
       "    .dataframe thead th {\n",
       "        text-align: right;\n",
       "    }\n",
       "</style>\n",
       "<table border=\"1\" class=\"dataframe\">\n",
       "  <thead>\n",
       "    <tr style=\"text-align: right;\">\n",
       "      <th></th>\n",
       "      <th>TunnelName</th>\n",
       "      <th>WikiLink</th>\n",
       "      <th>TunnelType</th>\n",
       "      <th>Length[m]</th>\n",
       "      <th>OpeningDate</th>\n",
       "      <th>Latitude</th>\n",
       "      <th>Longitude</th>\n",
       "    </tr>\n",
       "  </thead>\n",
       "  <tbody>\n",
       "    <tr>\n",
       "      <th>0</th>\n",
       "      <td>Ampthill Tunnel</td>\n",
       "      <td>/wiki/Ampthill_Tunnel</td>\n",
       "      <td>Railway</td>\n",
       "      <td>654.0</td>\n",
       "      <td>1859</td>\n",
       "      <td>52.033611</td>\n",
       "      <td>-0.513333</td>\n",
       "    </tr>\n",
       "    <tr>\n",
       "      <th>1</th>\n",
       "      <td>Linslade Tunnel</td>\n",
       "      <td>/wiki/Linslade_Tunnel</td>\n",
       "      <td>Railway</td>\n",
       "      <td>249.0</td>\n",
       "      <td>1837, 1859, 1876</td>\n",
       "      <td>51.925278</td>\n",
       "      <td>-0.676389</td>\n",
       "    </tr>\n",
       "    <tr>\n",
       "      <th>2</th>\n",
       "      <td>Old Warden Tunnel</td>\n",
       "      <td>/wiki/Old_Warden_Tunnel</td>\n",
       "      <td>Railway</td>\n",
       "      <td>807.0</td>\n",
       "      <td>1853</td>\n",
       "      <td>52.088333</td>\n",
       "      <td>-0.375833</td>\n",
       "    </tr>\n",
       "    <tr>\n",
       "      <th>3</th>\n",
       "      <td>Wymington Tunnel</td>\n",
       "      <td>No link</td>\n",
       "      <td>Railway</td>\n",
       "      <td>1690.0</td>\n",
       "      <td>1859</td>\n",
       "      <td>NaN</td>\n",
       "      <td>NaN</td>\n",
       "    </tr>\n",
       "    <tr>\n",
       "      <th>4</th>\n",
       "      <td>Clifton Down Tunnel</td>\n",
       "      <td>/wiki/Clifton_Down_Tunnel</td>\n",
       "      <td>Railway</td>\n",
       "      <td>1601.0</td>\n",
       "      <td>1874</td>\n",
       "      <td>51.469444</td>\n",
       "      <td>-2.618889</td>\n",
       "    </tr>\n",
       "  </tbody>\n",
       "</table>\n",
       "</div>"
      ],
      "text/plain": [
       "            TunnelName                   WikiLink TunnelType  Length[m]  \\\n",
       "0      Ampthill Tunnel      /wiki/Ampthill_Tunnel    Railway      654.0   \n",
       "1      Linslade Tunnel      /wiki/Linslade_Tunnel    Railway      249.0   \n",
       "2    Old Warden Tunnel    /wiki/Old_Warden_Tunnel    Railway      807.0   \n",
       "3     Wymington Tunnel                    No link    Railway     1690.0   \n",
       "4  Clifton Down Tunnel  /wiki/Clifton_Down_Tunnel    Railway     1601.0   \n",
       "\n",
       "        OpeningDate   Latitude  Longitude  \n",
       "0              1859  52.033611  -0.513333  \n",
       "1  1837, 1859, 1876  51.925278  -0.676389  \n",
       "2              1853  52.088333  -0.375833  \n",
       "3              1859        NaN        NaN  \n",
       "4              1874  51.469444  -2.618889  "
      ]
     },
     "execution_count": 262,
     "metadata": {},
     "output_type": "execute_result"
    }
   ],
   "source": [
    "#import tunnel data\n",
    "df_tun = pd.read_csv('tunnels_list.csv')\n",
    "df_tun.head(5)"
   ]
  },
  {
   "cell_type": "code",
   "execution_count": 263,
   "metadata": {},
   "outputs": [
    {
     "data": {
      "text/html": [
       "<div>\n",
       "<style scoped>\n",
       "    .dataframe tbody tr th:only-of-type {\n",
       "        vertical-align: middle;\n",
       "    }\n",
       "\n",
       "    .dataframe tbody tr th {\n",
       "        vertical-align: top;\n",
       "    }\n",
       "\n",
       "    .dataframe thead th {\n",
       "        text-align: right;\n",
       "    }\n",
       "</style>\n",
       "<table border=\"1\" class=\"dataframe\">\n",
       "  <thead>\n",
       "    <tr style=\"text-align: right;\">\n",
       "      <th></th>\n",
       "      <th>latitude</th>\n",
       "      <th>longitude</th>\n",
       "      <th>link_length_km</th>\n",
       "      <th>pedal_cycles</th>\n",
       "      <th>two_wheeled_motor_vehicles</th>\n",
       "      <th>cars_and_taxis</th>\n",
       "      <th>buses_and_coaches</th>\n",
       "      <th>lgvs</th>\n",
       "      <th>all_hgvs</th>\n",
       "      <th>all_motor_vehicles</th>\n",
       "      <th>road_name</th>\n",
       "    </tr>\n",
       "  </thead>\n",
       "  <tbody>\n",
       "    <tr>\n",
       "      <th>0</th>\n",
       "      <td>51.945910</td>\n",
       "      <td>-0.211865</td>\n",
       "      <td>4.2</td>\n",
       "      <td>0.0</td>\n",
       "      <td>211.5</td>\n",
       "      <td>34685.0</td>\n",
       "      <td>78.0</td>\n",
       "      <td>6508.5</td>\n",
       "      <td>2413.0</td>\n",
       "      <td>43896.5</td>\n",
       "      <td>A1(M)</td>\n",
       "    </tr>\n",
       "    <tr>\n",
       "      <th>1</th>\n",
       "      <td>51.981648</td>\n",
       "      <td>-0.196827</td>\n",
       "      <td>5.3</td>\n",
       "      <td>0.0</td>\n",
       "      <td>117.5</td>\n",
       "      <td>19698.0</td>\n",
       "      <td>22.0</td>\n",
       "      <td>3740.0</td>\n",
       "      <td>1893.5</td>\n",
       "      <td>25471.0</td>\n",
       "      <td>A1(M)</td>\n",
       "    </tr>\n",
       "    <tr>\n",
       "      <th>2</th>\n",
       "      <td>52.010865</td>\n",
       "      <td>-0.203506</td>\n",
       "      <td>0.4</td>\n",
       "      <td>0.0</td>\n",
       "      <td>81.0</td>\n",
       "      <td>13547.0</td>\n",
       "      <td>15.0</td>\n",
       "      <td>2565.5</td>\n",
       "      <td>1301.0</td>\n",
       "      <td>17509.5</td>\n",
       "      <td>A1(M)</td>\n",
       "    </tr>\n",
       "    <tr>\n",
       "      <th>3</th>\n",
       "      <td>52.014151</td>\n",
       "      <td>-0.205502</td>\n",
       "      <td>0.4</td>\n",
       "      <td>0.0</td>\n",
       "      <td>81.0</td>\n",
       "      <td>13547.0</td>\n",
       "      <td>15.0</td>\n",
       "      <td>2565.5</td>\n",
       "      <td>1301.0</td>\n",
       "      <td>17509.5</td>\n",
       "      <td>A1(M)</td>\n",
       "    </tr>\n",
       "    <tr>\n",
       "      <th>4</th>\n",
       "      <td>51.496059</td>\n",
       "      <td>-0.082578</td>\n",
       "      <td>0.4</td>\n",
       "      <td>674.0</td>\n",
       "      <td>815.0</td>\n",
       "      <td>7937.5</td>\n",
       "      <td>410.5</td>\n",
       "      <td>3070.5</td>\n",
       "      <td>308.5</td>\n",
       "      <td>12542.0</td>\n",
       "      <td>A100</td>\n",
       "    </tr>\n",
       "  </tbody>\n",
       "</table>\n",
       "</div>"
      ],
      "text/plain": [
       "    latitude  longitude  link_length_km  pedal_cycles  \\\n",
       "0  51.945910  -0.211865             4.2           0.0   \n",
       "1  51.981648  -0.196827             5.3           0.0   \n",
       "2  52.010865  -0.203506             0.4           0.0   \n",
       "3  52.014151  -0.205502             0.4           0.0   \n",
       "4  51.496059  -0.082578             0.4         674.0   \n",
       "\n",
       "   two_wheeled_motor_vehicles  cars_and_taxis  buses_and_coaches    lgvs  \\\n",
       "0                       211.5         34685.0               78.0  6508.5   \n",
       "1                       117.5         19698.0               22.0  3740.0   \n",
       "2                        81.0         13547.0               15.0  2565.5   \n",
       "3                        81.0         13547.0               15.0  2565.5   \n",
       "4                       815.0          7937.5              410.5  3070.5   \n",
       "\n",
       "   all_hgvs  all_motor_vehicles road_name  \n",
       "0    2413.0             43896.5     A1(M)  \n",
       "1    1893.5             25471.0     A1(M)  \n",
       "2    1301.0             17509.5     A1(M)  \n",
       "3    1301.0             17509.5     A1(M)  \n",
       "4     308.5             12542.0      A100  "
      ]
     },
     "execution_count": 263,
     "metadata": {},
     "output_type": "execute_result"
    }
   ],
   "source": [
    "#import traffic data\n",
    "df_traf = pd.read_csv('traffic_data.csv')\n",
    "df_traf.head(5)"
   ]
  },
  {
   "cell_type": "markdown",
   "metadata": {},
   "source": [
    "# 3. Create HTML map"
   ]
  },
  {
   "cell_type": "markdown",
   "metadata": {},
   "source": [
    "## 3.1. Base map"
   ]
  },
  {
   "cell_type": "code",
   "execution_count": 264,
   "metadata": {},
   "outputs": [],
   "source": [
    "# Base map\n",
    "map = fol.Map(location=[51.5,0], zoom_start=5, control_scale=True)"
   ]
  },
  {
   "cell_type": "markdown",
   "metadata": {},
   "source": [
    "## 3.2. Create layer - UK districts"
   ]
  },
  {
   "cell_type": "code",
   "execution_count": 265,
   "metadata": {},
   "outputs": [
    {
     "data": {
      "text/plain": [
       "<folium.map.FeatureGroup at 0x58374080>"
      ]
     },
     "execution_count": 265,
     "metadata": {},
     "output_type": "execute_result"
    }
   ],
   "source": [
    "#Create Geojson map layer of UK districts\n",
    "fg_districts = fol.FeatureGroup(name=\"UK districts\")\n",
    "fg_districts.add_child(fol.GeoJson(open('Local_Authority_Districts_December_2016_Ultra_Generalised_Clipped_Boundaries_in_Great_Britain.geojson').read(),\n",
    "name='geojson'))"
   ]
  },
  {
   "cell_type": "markdown",
   "metadata": {},
   "source": [
    "## 3.3. Create layer - Non road/rail tunnels"
   ]
  },
  {
   "cell_type": "code",
   "execution_count": 266,
   "metadata": {},
   "outputs": [],
   "source": [
    "#Creating feature group of all non road/rail tunnels\n",
    "fg_other_tunnels=fol.FeatureGroup(\"All other tunnels\" , show=True)\n",
    "for index, row in df_tun.iterrows():\n",
    "    \n",
    "    lat = row['Latitude']\n",
    "    lon = row['Longitude']\n",
    "    name = row['TunnelName']\n",
    "    length = row['Length[m]']\n",
    "    tunneltype = row['TunnelType']\n",
    "    opendate = row['OpeningDate']\n",
    "\n",
    "    if 'Road' not in tunneltype and 'Rail' not in tunneltype:    \n",
    "        if abs(lat) > 0 and abs(lon) >0:\n",
    "            fg_other_tunnels.add_child(fol.CircleMarker(location=[lat,lon], tooltip=name,\n",
    "            popup='Length: ' + str(length) + 'm<br>Tunnel type: ' + tunneltype + '<br>Opened: ' +\n",
    "                opendate, radius=0.25*math.sqrt(length), fill_color='blue', color='black',fill_opacity=0.7,icon='info-sign'))"
   ]
  },
  {
   "cell_type": "markdown",
   "metadata": {},
   "source": [
    "## 3.4. Create layer - Road tunnels"
   ]
  },
  {
   "cell_type": "code",
   "execution_count": 267,
   "metadata": {},
   "outputs": [],
   "source": [
    "#Creating feature group of road tunnels\n",
    "fg_road_tunnels=fol.FeatureGroup(\"Road tunnels\" , show=True)\n",
    "for index, row in df_tun.iterrows():\n",
    "    \n",
    "    lat = row['Latitude']\n",
    "    lon = row['Longitude']\n",
    "    name = row['TunnelName']\n",
    "    length = row['Length[m]']\n",
    "    tunneltype = row['TunnelType']\n",
    "    opendate = row['OpeningDate']\n",
    "    \n",
    "    if 'Road' in tunneltype:    \n",
    "        if abs(lat) > 0 and abs(lon) >0:\n",
    "            fg_road_tunnels.add_child(fol.CircleMarker(location=[lat,lon], tooltip=name,\n",
    "            popup='Length: ' + str(length) + 'm<br>Tunnel type: ' + tunneltype + '<br>Opened: ' +\n",
    "                opendate, radius=0.25*math.sqrt(length), fill_color='red', color='black',fill_opacity=0.7,icon='info-sign'))"
   ]
  },
  {
   "cell_type": "markdown",
   "metadata": {},
   "source": [
    "## 3.5. Create layer - Rail tunnels"
   ]
  },
  {
   "cell_type": "code",
   "execution_count": 268,
   "metadata": {},
   "outputs": [],
   "source": [
    "#Creating feature group of road tunnels\n",
    "fg_rail_tunnels=fol.FeatureGroup(\"Railway tunnels\" , show=True)\n",
    "for index, row in df_tun.iterrows():\n",
    "    \n",
    "    lat = row['Latitude']\n",
    "    lon = row['Longitude']\n",
    "    name = row['TunnelName']\n",
    "    length = row['Length[m]']\n",
    "    tunneltype = row['TunnelType']\n",
    "    opendate = row['OpeningDate']\n",
    "    \n",
    "    if 'Rail' in tunneltype:    \n",
    "        if abs(lat) > 0 and abs(lon) >0:\n",
    "            fg_rail_tunnels.add_child(fol.CircleMarker(location=[lat,lon], tooltip=name,\n",
    "            popup='Length: ' + str(length) + 'm<br>Tunnel type: ' + tunneltype + '<br>Opened: ' +\n",
    "                opendate, radius=0.25*math.sqrt(length), fill_color='yellow', color='black',fill_opacity=0.7,icon='info-sign'))"
   ]
  },
  {
   "cell_type": "markdown",
   "metadata": {},
   "source": [
    "## 3.6. Create layer - Traffic"
   ]
  },
  {
   "cell_type": "code",
   "execution_count": 269,
   "metadata": {},
   "outputs": [],
   "source": [
    "def traffic_colour(value):\n",
    "    if int(value) > 15000:\n",
    "        return 'red'\n",
    "    elif int(value) > 6000:\n",
    "        return 'orange'\n",
    "    else:\n",
    "        return 'green'"
   ]
  },
  {
   "cell_type": "code",
   "execution_count": 270,
   "metadata": {},
   "outputs": [],
   "source": [
    "# #Creating feature group of road tunnels\n",
    "# fg_traffic=fol.FeatureGroup(\"Traffic\")\n",
    "# for index, row in df_traf.iterrows():\n",
    "    \n",
    "#     lat = row['latitude']\n",
    "#     lon = row['longitude']\n",
    "#     name = row['road_name']\n",
    "#     length = row['link_length_km']\n",
    "#     allmotors = row['all_motor_vehicles']\n",
    "#     cyclists = row['pedal_cycles']\n",
    "#     motorbikes = row['two_wheeled_motor_vehicles']\n",
    "#     cars = row['cars_and_taxis']\n",
    "#     buses = row['buses_and_coaches']\n",
    "#     lgvs = row['lgvs']\n",
    "#     hgvs = row['all_hgvs']\n",
    "    \n",
    "#     if abs(lat) > 0 and abs(lon) >0:\n",
    "#         fg_traffic.add_child(fol.Marker(location=[lat,lon], tooltip=name,\n",
    "#         popup='Length: ' + str(length) + 'km<br><br>Average annual daily flows<br>Total vehicles: ' + str(allmotors) \n",
    "#             + '<br>No. of cyclists: ' + str(cyclists) + '<br>No. of motorbikes: ' + str(motorbikes) \n",
    "#             + '<br>No. of cars/taxis: ' + str(cars) + '<br>No. of buses/coaches: ' + str(buses) + '<br>No. of lgvs: ' \n",
    "#             + str(lgvs) + '<br>No. of hgvs: ' + str(hgvs),\n",
    "#             icon=fol.Icon(color=traffic_colour(allmotors), icon='info-sign')))"
   ]
  },
  {
   "cell_type": "code",
   "execution_count": 271,
   "metadata": {},
   "outputs": [],
   "source": [
    "#Creating feature group of road tunnels\n",
    "fg_traffic=fol.FeatureGroup(\"Traffic (road tunnels)\" , show=False)\n",
    "for index, row in df_traf.iterrows():\n",
    "    \n",
    "    lat = row['latitude']\n",
    "    lon = row['longitude']\n",
    "    name = row['road_name']\n",
    "    length = row['link_length_km']\n",
    "    allmotors = row['all_motor_vehicles']\n",
    "    cyclists = row['pedal_cycles']\n",
    "    motorbikes = row['two_wheeled_motor_vehicles']\n",
    "    cars = row['cars_and_taxis']\n",
    "    buses = row['buses_and_coaches']\n",
    "    lgvs = row['lgvs']\n",
    "    hgvs = row['all_hgvs']\n",
    "    \n",
    "    if abs(lat) > 0 and abs(lon) >0:\n",
    "        fg_traffic.add_child(fol.CircleMarker(location=[lat,lon], tooltip=name,\n",
    "        popup='Length: ' + str(length) + 'km<br><br>Average annual daily flows<br>Total vehicles: ' + str(allmotors) \n",
    "            + '<br>No. of cyclists: ' + str(cyclists) + '<br>No. of motorbikes: ' + str(motorbikes) \n",
    "            + '<br>No. of cars/taxis: ' + str(cars) + '<br>No. of buses/coaches: ' + str(buses) + '<br>No. of lgvs: ' \n",
    "            + str(lgvs) + '<br>No. of hgvs: ' + str(hgvs),\n",
    "        radius=5, fill_color=traffic_colour(allmotors), color='black',fill_opacity=0.9,icon='info-sign'))"
   ]
  },
  {
   "cell_type": "markdown",
   "metadata": {},
   "source": [
    "## 3.6. Add layers to base map"
   ]
  },
  {
   "cell_type": "code",
   "execution_count": 272,
   "metadata": {},
   "outputs": [
    {
     "data": {
      "text/plain": [
       "<folium.map.LayerControl at 0x585811d0>"
      ]
     },
     "execution_count": 272,
     "metadata": {},
     "output_type": "execute_result"
    }
   ],
   "source": [
    "#Add feature groups onto map and save as html\n",
    "map.add_child(fg_districts)\n",
    "map.add_child(fg_traffic)\n",
    "map.add_child(fg_road_tunnels)\n",
    "map.add_child(fg_rail_tunnels)\n",
    "map.add_child(fg_other_tunnels)\n",
    "\n",
    "# #Turn off traffic as default\n",
    "# fol.Layer(fg_traffic,show=False)\n",
    "\n",
    "#Add layer control\n",
    "fol.LayerControl(collapsed=False).add_to(map)"
   ]
  },
  {
   "cell_type": "markdown",
   "metadata": {},
   "source": [
    "# 4. Publish output"
   ]
  },
  {
   "cell_type": "code",
   "execution_count": 273,
   "metadata": {},
   "outputs": [],
   "source": [
    "map.save(\"map.html\")"
   ]
  },
  {
   "cell_type": "code",
   "execution_count": null,
   "metadata": {},
   "outputs": [],
   "source": []
  }
 ],
 "metadata": {
  "kernelspec": {
   "display_name": "Python 3",
   "language": "python",
   "name": "python3"
  },
  "language_info": {
   "codemirror_mode": {
    "name": "ipython",
    "version": 3
   },
   "file_extension": ".py",
   "mimetype": "text/x-python",
   "name": "python",
   "nbconvert_exporter": "python",
   "pygments_lexer": "ipython3",
   "version": "3.7.3"
  }
 },
 "nbformat": 4,
 "nbformat_minor": 2
}
