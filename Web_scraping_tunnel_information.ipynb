{
 "cells": [
  {
   "cell_type": "markdown",
   "metadata": {},
   "source": [
    "# 1. Script set-up"
   ]
  },
  {
   "cell_type": "code",
   "execution_count": 799,
   "metadata": {},
   "outputs": [],
   "source": [
    "# Download libraries\n",
    "import requests\n",
    "from bs4 import BeautifulSoup\n",
    "import time\n",
    "from random import randint\n",
    "import numpy as np\n",
    "import urllib3\n",
    "import pandas as pd\n",
    "import seaborn as sns\n",
    "import matplotlib.pyplot as plt"
   ]
  },
  {
   "cell_type": "code",
   "execution_count": 800,
   "metadata": {},
   "outputs": [],
   "source": [
    "# Appears to be required to avoid warnings for MM security\n",
    "urllib3.disable_warnings()"
   ]
  },
  {
   "cell_type": "markdown",
   "metadata": {},
   "source": [
    "# 2. List of tunnels from Wikipedia"
   ]
  },
  {
   "cell_type": "markdown",
   "metadata": {},
   "source": [
    "## 2.1. Webscraping"
   ]
  },
  {
   "cell_type": "code",
   "execution_count": 801,
   "metadata": {},
   "outputs": [],
   "source": [
    "# first pull the HTML from the page. This is pulling from a wikipedia page (and later links off this page)\n",
    "html = requests.get('https://en.wikipedia.org/wiki/List_of_tunnels_in_the_United_Kingdom',verify=False)\n",
    "\n",
    "# turn the HTML into a beautiful soup text object\n",
    "b = BeautifulSoup(html.text, features='lxml')"
   ]
  },
  {
   "cell_type": "code",
   "execution_count": 802,
   "metadata": {},
   "outputs": [],
   "source": [
    "# Empty lists that the webscraping will add to\n",
    "tunnel_names = []\n",
    "tunnel_links = []\n",
    "tunnel_types = []\n",
    "tunnel_lengths =[]\n",
    "opening_dates = []\n",
    "\n",
    "# Information stored in tables under a class tag. Then require getting the rows (<tr>), then cells in the row (<td>).\n",
    "for table in b.find_all(name='table', class_='wikitable'):\n",
    "    #'tr'/row contains each row in info table\n",
    "    for row in table.find(name='tbody').find_all(name='tr')[1:]: #Head of the table seems to get included in tbody...\n",
    "        #'td' contains each cell in row\n",
    "        cells=row.find_all(name='td')\n",
    "        \n",
    "        #1. Tunnel name\n",
    "        tunnel_names.append(cells[1].get_text())\n",
    "        \n",
    "        #2. Tunnel link\n",
    "        if len(cells[1].find_all(name='a')) > 0:\n",
    "            tunnel_links.append(cells[1].find_all(name='a')[0].get('href'))\n",
    "        else:\n",
    "            tunnel_links.append('No link')\n",
    "        \n",
    "        #3. Tunnel type\n",
    "        tunnel_types.append(cells[2].get_text())\n",
    "        \n",
    "        #4. Tunnel length\n",
    "        tunnel_lengths.append(cells[3].get_text())\n",
    "        \n",
    "        #5. Tunnel opening date\n",
    "        opening_dates.append(cells[6].get_text())\n",
    "\n",
    "#Concatinate them into dataframe\n",
    "df = pd.concat([pd.Series(tunnel_names),pd.Series(tunnel_links),pd.Series(tunnel_types),pd.Series(tunnel_lengths),pd.Series(opening_dates)],axis=1)  "
   ]
  },
  {
   "cell_type": "markdown",
   "metadata": {},
   "source": [
    "## 2.2. Analysing and cleaning data"
   ]
  },
  {
   "cell_type": "code",
   "execution_count": 803,
   "metadata": {
    "scrolled": true
   },
   "outputs": [
    {
     "data": {
      "text/html": [
       "<div>\n",
       "<style scoped>\n",
       "    .dataframe tbody tr th:only-of-type {\n",
       "        vertical-align: middle;\n",
       "    }\n",
       "\n",
       "    .dataframe tbody tr th {\n",
       "        vertical-align: top;\n",
       "    }\n",
       "\n",
       "    .dataframe thead th {\n",
       "        text-align: right;\n",
       "    }\n",
       "</style>\n",
       "<table border=\"1\" class=\"dataframe\">\n",
       "  <thead>\n",
       "    <tr style=\"text-align: right;\">\n",
       "      <th></th>\n",
       "      <th>TunnelName</th>\n",
       "      <th>WikiLink</th>\n",
       "      <th>TunnelType</th>\n",
       "      <th>Length[m]</th>\n",
       "      <th>OpeningDate</th>\n",
       "    </tr>\n",
       "  </thead>\n",
       "  <tbody>\n",
       "    <tr>\n",
       "      <th>0</th>\n",
       "      <td>Ampthill Tunnel</td>\n",
       "      <td>/wiki/Ampthill_Tunnel</td>\n",
       "      <td>Railway</td>\n",
       "      <td>654</td>\n",
       "      <td>1859</td>\n",
       "    </tr>\n",
       "    <tr>\n",
       "      <th>1</th>\n",
       "      <td>Linslade Tunnel</td>\n",
       "      <td>/wiki/Linslade_Tunnel</td>\n",
       "      <td>Railway</td>\n",
       "      <td>249</td>\n",
       "      <td>1837, 1859, 1876</td>\n",
       "    </tr>\n",
       "    <tr>\n",
       "      <th>2</th>\n",
       "      <td>Old Warden Tunnel</td>\n",
       "      <td>/wiki/Old_Warden_Tunnel</td>\n",
       "      <td>Railway</td>\n",
       "      <td>807</td>\n",
       "      <td>1853</td>\n",
       "    </tr>\n",
       "    <tr>\n",
       "      <th>3</th>\n",
       "      <td>Wymington Tunnel</td>\n",
       "      <td>/w/index.php?title=Wymington_Tunnel&amp;action=edi...</td>\n",
       "      <td>Railway</td>\n",
       "      <td>1,690</td>\n",
       "      <td>1859</td>\n",
       "    </tr>\n",
       "    <tr>\n",
       "      <th>4</th>\n",
       "      <td>Clifton Down Tunnel</td>\n",
       "      <td>/wiki/Clifton_Down_Tunnel</td>\n",
       "      <td>Railway</td>\n",
       "      <td>1,601</td>\n",
       "      <td>1874</td>\n",
       "    </tr>\n",
       "  </tbody>\n",
       "</table>\n",
       "</div>"
      ],
      "text/plain": [
       "            TunnelName                                           WikiLink  \\\n",
       "0      Ampthill Tunnel                              /wiki/Ampthill_Tunnel   \n",
       "1      Linslade Tunnel                              /wiki/Linslade_Tunnel   \n",
       "2    Old Warden Tunnel                            /wiki/Old_Warden_Tunnel   \n",
       "3     Wymington Tunnel  /w/index.php?title=Wymington_Tunnel&action=edi...   \n",
       "4  Clifton Down Tunnel                          /wiki/Clifton_Down_Tunnel   \n",
       "\n",
       "  TunnelType Length[m]       OpeningDate  \n",
       "0    Railway       654              1859  \n",
       "1    Railway       249  1837, 1859, 1876  \n",
       "2    Railway       807              1853  \n",
       "3    Railway     1,690              1859  \n",
       "4    Railway     1,601              1874  "
      ]
     },
     "execution_count": 803,
     "metadata": {},
     "output_type": "execute_result"
    }
   ],
   "source": [
    "# Add column names\n",
    "df.columns = ['TunnelName','WikiLink','TunnelType','Length[m]','OpeningDate']\n",
    "df.head(5)"
   ]
  },
  {
   "cell_type": "code",
   "execution_count": 804,
   "metadata": {},
   "outputs": [],
   "source": [
    "# Some data cleaning\n",
    "\n",
    "#Replace \\n\n",
    "df = df.replace(to_replace='\\n',value=\"\",regex=True)\n",
    "#Replace non-wiki links\n",
    "df.loc[~df.WikiLink.str.contains('/wiki/'),'WikiLink']='No link'\n",
    "df.loc[df.WikiLink.str.contains('https://'),'WikiLink']='No link'\n",
    "#Replace ...\n",
    "df.OpeningDate = df.OpeningDate.replace(to_replace=r'^\\s*$',value=\"Unknown\",regex=True)\n",
    "#Convert length to numeric\n",
    "df['Length[m]'] = df['Length[m]'].apply(lambda x: x.split('[')[0] if '[' in x else x)\n",
    "df['Length[m]'] = df['Length[m]'].str.replace(',','')\n",
    "df['Length[m]'] = pd.to_numeric(df['Length[m]'])\n",
    "# replace field that's entirely space (or empty) with 'Unknown'\n",
    "df.replace(r'^\\s*$', 'Unknown', regex=True,inplace=True)"
   ]
  },
  {
   "cell_type": "code",
   "execution_count": 805,
   "metadata": {
    "scrolled": true
   },
   "outputs": [
    {
     "name": "stderr",
     "output_type": "stream",
     "text": [
      "C:\\Users\\hei79524\\AppData\\Local\\Programs\\Python\\Python37\\lib\\site-packages\\pandas\\core\\ops.py:1649: FutureWarning: elementwise comparison failed; returning scalar instead, but in the future will perform elementwise comparison\n",
      "  result = method(y)\n"
     ]
    },
    {
     "data": {
      "text/plain": [
       "Text(0.5, 1, 'Unknown values')"
      ]
     },
     "execution_count": 805,
     "metadata": {},
     "output_type": "execute_result"
    },
    {
     "data": {
      "image/png": "[encoded data removed]",
      "text/plain": [
       "<Figure size 1080x288 with 3 Axes>"
      ]
     },
     "metadata": {
      "needs_background": "light"
     },
     "output_type": "display_data"
    }
   ],
   "source": [
    "#Look for missing data\n",
    "\n",
    "#Initialise figure and ax\n",
    "plt.figure(figsize=[15,4])\n",
    "\n",
    "#Create plot\n",
    "plt.subplot(1,3,1)\n",
    "sns.heatmap(df.isnull(),yticklabels=False,cbar=False)\n",
    "plt.title('Null values')\n",
    "\n",
    "plt.subplot(1,3,2)\n",
    "sns.heatmap(df==('Unknown') ,yticklabels=False,cbar=False)\n",
    "plt.title('Unknown values')\n",
    "\n",
    "plt.subplot(1,3,3)\n",
    "sns.heatmap(df==('No link') ,yticklabels=False,cbar=False)\n",
    "plt.title('No link')"
   ]
  },
  {
   "cell_type": "code",
   "execution_count": 819,
   "metadata": {},
   "outputs": [
    {
     "name": "stdout",
     "output_type": "stream",
     "text": [
      "Tunnels that can be mapped: 48.2%\n"
     ]
    }
   ],
   "source": [
    "print(\"Tunnels that can be mapped: \"+\"{:.1%}\".format(df.WikiLink.loc[df.WikiLink!='No link'].count()/df.WikiLink.count()))"
   ]
  },
  {
   "cell_type": "markdown",
   "metadata": {},
   "source": [
    "Note:\n",
    "- Only a few lengths are missing so this is okay.\n",
    "- OpeningDate isn't used anywhere other than providing further information for interest so this is okay.\n",
    "- Unfortunately, any tunnel missing a 'WikiLink' will not be shown in the final graph as no location co-ordinate can be found. This is quite a lot of tunnels, however, tunnels without a link (wikipedia page) are far more likely to be minor tunnels and therefore not as useful for what we do."
   ]
  },
  {
   "cell_type": "code",
   "execution_count": 820,
   "metadata": {},
   "outputs": [
    {
     "data": {
      "text/plain": [
       "Text(0.5, 1.0, 'Tunnel length distribution - zoomed in')"
      ]
     },
     "execution_count": 820,
     "metadata": {},
     "output_type": "execute_result"
    },
    {
     "data": {
      "image/png": "[encoded data removed]",
      "text/plain": [
       "<Figure size 1080x288 with 2 Axes>"
      ]
     },
     "metadata": {
      "needs_background": "light"
     },
     "output_type": "display_data"
    }
   ],
   "source": [
    "# Looking at the distribution of tunnel lengths\n",
    "\n",
    "#Initialise figure and ax\n",
    "plt.figure(figsize=[15,4])\n",
    "\n",
    "#Create plot\n",
    "plt.subplot(1,2,1)\n",
    "sns.distplot(df['Length[m]'].dropna(),kde=True,bins=100)\n",
    "plt.xlim(0)\n",
    "plt.title('Tunnel length distribution')\n",
    "\n",
    "plt.subplot(1,2,2)\n",
    "sns.distplot(df['Length[m]'].dropna(),kde=True,bins=100)\n",
    "plt.xlim(0,10000)\n",
    "plt.title('Tunnel length distribution - zoomed in')"
   ]
  },
  {
   "cell_type": "markdown",
   "metadata": {},
   "source": [
    "# 3. Geographical co-ordinates for each tunnel"
   ]
  },
  {
   "cell_type": "markdown",
   "metadata": {},
   "source": [
    "## 3.1. Webscraping"
   ]
  },
  {
   "cell_type": "code",
   "execution_count": 807,
   "metadata": {},
   "outputs": [
    {
     "name": "stdout",
     "output_type": "stream",
     "text": [
      "Started\n",
      "Complete\n"
     ]
    }
   ],
   "source": [
    "# Add co-ordinates by getting the HTML code from each tunnel link\n",
    "\n",
    "#Lists to be ammended (must add up to length of df for merging)\n",
    "latitude =[]\n",
    "longitude = []\n",
    "\n",
    "#Operation takes a while so start/complete is useful to check it's running\n",
    "print('Started')\n",
    "\n",
    "#Get coordinates (if exist)\n",
    "for link_end in df.WikiLink:\n",
    "    if link_end == 'No link':\n",
    "        latitude.append(float('nan'))\n",
    "        longitude.append(float('nan'))\n",
    "    else:\n",
    "        page_html = requests.get('https://en.wikipedia.org' + link_end,verify=False)\n",
    "        page_soup = BeautifulSoup(page_html.text, features='lxml')        \n",
    "        #len() required to avoid errors if don't exist\n",
    "        if len(page_soup.find_all(name='span', class_='latitude')) > 0:\n",
    "            #Structure of website has the required co-ordinates at the top of the page so [0] prevents any errors from a list\n",
    "            latitude.append(page_soup.find_all(name='span', class_='latitude')[0].get_text())\n",
    "            longitude.append(page_soup.find_all(name='span', class_='longitude')[0].get_text())\n",
    "        #If for any reason co-ordinates are not on a page, this captures that eventuality\n",
    "        else:\n",
    "            latitude.append(float('nan'))\n",
    "            longitude.append(float('nan'))            \n",
    "    #Good practice to slow down/ randomise requests\n",
    "    time.sleep(randint(1,100)/100)\n",
    "    \n",
    "#Convert to series and add to df\n",
    "df['Latitude']=pd.Series(latitude)\n",
    "df['Longitude']=pd.Series(longitude)\n",
    "\n",
    "print('Complete')"
   ]
  },
  {
   "cell_type": "markdown",
   "metadata": {},
   "source": [
    "## 3.2. Analysing and cleaning data 2"
   ]
  },
  {
   "cell_type": "code",
   "execution_count": 808,
   "metadata": {
    "scrolled": false
   },
   "outputs": [
    {
     "data": {
      "text/html": [
       "<div>\n",
       "<style scoped>\n",
       "    .dataframe tbody tr th:only-of-type {\n",
       "        vertical-align: middle;\n",
       "    }\n",
       "\n",
       "    .dataframe tbody tr th {\n",
       "        vertical-align: top;\n",
       "    }\n",
       "\n",
       "    .dataframe thead th {\n",
       "        text-align: right;\n",
       "    }\n",
       "</style>\n",
       "<table border=\"1\" class=\"dataframe\">\n",
       "  <thead>\n",
       "    <tr style=\"text-align: right;\">\n",
       "      <th></th>\n",
       "      <th>TunnelName</th>\n",
       "      <th>WikiLink</th>\n",
       "      <th>TunnelType</th>\n",
       "      <th>Length[m]</th>\n",
       "      <th>OpeningDate</th>\n",
       "      <th>Latitude</th>\n",
       "      <th>Longitude</th>\n",
       "    </tr>\n",
       "  </thead>\n",
       "  <tbody>\n",
       "    <tr>\n",
       "      <th>0</th>\n",
       "      <td>Ampthill Tunnel</td>\n",
       "      <td>/wiki/Ampthill_Tunnel</td>\n",
       "      <td>Railway</td>\n",
       "      <td>654.0</td>\n",
       "      <td>1859</td>\n",
       "      <td>52°02′01″N</td>\n",
       "      <td>0°30′48″W</td>\n",
       "    </tr>\n",
       "    <tr>\n",
       "      <th>1</th>\n",
       "      <td>Linslade Tunnel</td>\n",
       "      <td>/wiki/Linslade_Tunnel</td>\n",
       "      <td>Railway</td>\n",
       "      <td>249.0</td>\n",
       "      <td>1837, 1859, 1876</td>\n",
       "      <td>51°55′31″N</td>\n",
       "      <td>0°40′35″W</td>\n",
       "    </tr>\n",
       "    <tr>\n",
       "      <th>2</th>\n",
       "      <td>Old Warden Tunnel</td>\n",
       "      <td>/wiki/Old_Warden_Tunnel</td>\n",
       "      <td>Railway</td>\n",
       "      <td>807.0</td>\n",
       "      <td>1853</td>\n",
       "      <td>52°05′18″N</td>\n",
       "      <td>0°22′33″W</td>\n",
       "    </tr>\n",
       "    <tr>\n",
       "      <th>3</th>\n",
       "      <td>Wymington Tunnel</td>\n",
       "      <td>No link</td>\n",
       "      <td>Railway</td>\n",
       "      <td>1690.0</td>\n",
       "      <td>1859</td>\n",
       "      <td>NaN</td>\n",
       "      <td>NaN</td>\n",
       "    </tr>\n",
       "    <tr>\n",
       "      <th>4</th>\n",
       "      <td>Clifton Down Tunnel</td>\n",
       "      <td>/wiki/Clifton_Down_Tunnel</td>\n",
       "      <td>Railway</td>\n",
       "      <td>1601.0</td>\n",
       "      <td>1874</td>\n",
       "      <td>51°28′10″N</td>\n",
       "      <td>2°37′08″W</td>\n",
       "    </tr>\n",
       "  </tbody>\n",
       "</table>\n",
       "</div>"
      ],
      "text/plain": [
       "            TunnelName                   WikiLink TunnelType  Length[m]  \\\n",
       "0      Ampthill Tunnel      /wiki/Ampthill_Tunnel    Railway      654.0   \n",
       "1      Linslade Tunnel      /wiki/Linslade_Tunnel    Railway      249.0   \n",
       "2    Old Warden Tunnel    /wiki/Old_Warden_Tunnel    Railway      807.0   \n",
       "3     Wymington Tunnel                    No link    Railway     1690.0   \n",
       "4  Clifton Down Tunnel  /wiki/Clifton_Down_Tunnel    Railway     1601.0   \n",
       "\n",
       "        OpeningDate    Latitude  Longitude  \n",
       "0              1859  52°02′01″N  0°30′48″W  \n",
       "1  1837, 1859, 1876  51°55′31″N  0°40′35″W  \n",
       "2              1853  52°05′18″N  0°22′33″W  \n",
       "3              1859         NaN        NaN  \n",
       "4              1874  51°28′10″N  2°37′08″W  "
      ]
     },
     "execution_count": 808,
     "metadata": {},
     "output_type": "execute_result"
    }
   ],
   "source": [
    "df.head(5)"
   ]
  },
  {
   "cell_type": "code",
   "execution_count": 809,
   "metadata": {},
   "outputs": [],
   "source": [
    "# This converts the latitude and longitude values into the correct format for mapping.\n",
    "\n",
    "def geo_direction(text):\n",
    "    '''Calculate Decimal Degrees from Degrees Minutes Seconds (DMS)'''\n",
    "    if type(text) is str:\n",
    "        try:\n",
    "            degrees_input = float(text.split('°')[0])\n",
    "            minutes = float(text.split('°')[1].split('′')[0])\n",
    "            seconds = float(text.split('°')[1].split('′')[1].split('″')[0])\n",
    "            direction = text.split('°')[1].split('′')[1].split('″')[1]\n",
    "        \n",
    "            degrees_output = degrees_input + minutes/60 + seconds/3600\n",
    "        \n",
    "            if direction == 'S':\n",
    "                return degrees_output * (-1)\n",
    "            elif direction == 'W':\n",
    "                return degrees_output * (-1)    \n",
    "            else:\n",
    "                return degrees_output \n",
    "        except:\n",
    "            return float('nan')\n",
    "    else:\n",
    "        return float('nan')\n",
    "\n",
    "#Columns to apply function to\n",
    "cols = ['Latitude','Longitude']\n",
    "for col in cols:\n",
    "    df[col] = df[col].apply(geo_direction)\n",
    "    df[col] = pd.to_numeric(df[col])"
   ]
  },
  {
   "cell_type": "code",
   "execution_count": 810,
   "metadata": {},
   "outputs": [
    {
     "data": {
      "text/html": [
       "<div>\n",
       "<style scoped>\n",
       "    .dataframe tbody tr th:only-of-type {\n",
       "        vertical-align: middle;\n",
       "    }\n",
       "\n",
       "    .dataframe tbody tr th {\n",
       "        vertical-align: top;\n",
       "    }\n",
       "\n",
       "    .dataframe thead th {\n",
       "        text-align: right;\n",
       "    }\n",
       "</style>\n",
       "<table border=\"1\" class=\"dataframe\">\n",
       "  <thead>\n",
       "    <tr style=\"text-align: right;\">\n",
       "      <th></th>\n",
       "      <th>TunnelName</th>\n",
       "      <th>WikiLink</th>\n",
       "      <th>TunnelType</th>\n",
       "      <th>Length[m]</th>\n",
       "      <th>OpeningDate</th>\n",
       "      <th>Latitude</th>\n",
       "      <th>Longitude</th>\n",
       "    </tr>\n",
       "  </thead>\n",
       "  <tbody>\n",
       "    <tr>\n",
       "      <th>0</th>\n",
       "      <td>Ampthill Tunnel</td>\n",
       "      <td>/wiki/Ampthill_Tunnel</td>\n",
       "      <td>Railway</td>\n",
       "      <td>654.0</td>\n",
       "      <td>1859</td>\n",
       "      <td>52.033611</td>\n",
       "      <td>-0.513333</td>\n",
       "    </tr>\n",
       "    <tr>\n",
       "      <th>1</th>\n",
       "      <td>Linslade Tunnel</td>\n",
       "      <td>/wiki/Linslade_Tunnel</td>\n",
       "      <td>Railway</td>\n",
       "      <td>249.0</td>\n",
       "      <td>1837, 1859, 1876</td>\n",
       "      <td>51.925278</td>\n",
       "      <td>-0.676389</td>\n",
       "    </tr>\n",
       "    <tr>\n",
       "      <th>2</th>\n",
       "      <td>Old Warden Tunnel</td>\n",
       "      <td>/wiki/Old_Warden_Tunnel</td>\n",
       "      <td>Railway</td>\n",
       "      <td>807.0</td>\n",
       "      <td>1853</td>\n",
       "      <td>52.088333</td>\n",
       "      <td>-0.375833</td>\n",
       "    </tr>\n",
       "    <tr>\n",
       "      <th>3</th>\n",
       "      <td>Wymington Tunnel</td>\n",
       "      <td>No link</td>\n",
       "      <td>Railway</td>\n",
       "      <td>1690.0</td>\n",
       "      <td>1859</td>\n",
       "      <td>NaN</td>\n",
       "      <td>NaN</td>\n",
       "    </tr>\n",
       "    <tr>\n",
       "      <th>4</th>\n",
       "      <td>Clifton Down Tunnel</td>\n",
       "      <td>/wiki/Clifton_Down_Tunnel</td>\n",
       "      <td>Railway</td>\n",
       "      <td>1601.0</td>\n",
       "      <td>1874</td>\n",
       "      <td>51.469444</td>\n",
       "      <td>-2.618889</td>\n",
       "    </tr>\n",
       "  </tbody>\n",
       "</table>\n",
       "</div>"
      ],
      "text/plain": [
       "            TunnelName                   WikiLink TunnelType  Length[m]  \\\n",
       "0      Ampthill Tunnel      /wiki/Ampthill_Tunnel    Railway      654.0   \n",
       "1      Linslade Tunnel      /wiki/Linslade_Tunnel    Railway      249.0   \n",
       "2    Old Warden Tunnel    /wiki/Old_Warden_Tunnel    Railway      807.0   \n",
       "3     Wymington Tunnel                    No link    Railway     1690.0   \n",
       "4  Clifton Down Tunnel  /wiki/Clifton_Down_Tunnel    Railway     1601.0   \n",
       "\n",
       "        OpeningDate   Latitude  Longitude  \n",
       "0              1859  52.033611  -0.513333  \n",
       "1  1837, 1859, 1876  51.925278  -0.676389  \n",
       "2              1853  52.088333  -0.375833  \n",
       "3              1859        NaN        NaN  \n",
       "4              1874  51.469444  -2.618889  "
      ]
     },
     "execution_count": 810,
     "metadata": {},
     "output_type": "execute_result"
    }
   ],
   "source": [
    "df.head(5)"
   ]
  },
  {
   "cell_type": "markdown",
   "metadata": {},
   "source": [
    "# 4. Export output"
   ]
  },
  {
   "cell_type": "code",
   "execution_count": 811,
   "metadata": {},
   "outputs": [],
   "source": [
    "#Export cleaned tunnel list\n",
    "df.to_csv('tunnels_list.csv', index=False)"
   ]
  }
 ],
 "metadata": {
  "kernelspec": {
   "display_name": "Python 3",
   "language": "python",
   "name": "python3"
  },
  "language_info": {
   "codemirror_mode": {
    "name": "ipython",
    "version": 3
   },
   "file_extension": ".py",
   "mimetype": "text/x-python",
   "name": "python",
   "nbconvert_exporter": "python",
   "pygments_lexer": "ipython3",
   "version": "3.7.3"
  }
 },
 "nbformat": 4,
 "nbformat_minor": 2
}
